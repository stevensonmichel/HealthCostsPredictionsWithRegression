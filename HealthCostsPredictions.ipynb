{
 "cells": [
  {
   "cell_type": "code",
   "execution_count": 141,
   "metadata": {},
   "outputs": [
    {
     "name": "stdout",
     "output_type": "stream",
     "text": [
      "Note: you may need to restart the kernel to use updated packages.\n"
     ]
    },
    {
     "name": "stderr",
     "output_type": "stream",
     "text": [
      "\n",
      "[notice] A new release of pip is available: 23.1.2 -> 23.2.1\n",
      "[notice] To update, run: python.exe -m pip install --upgrade pip\n"
     ]
    }
   ],
   "source": [
    "# Import libraries.\n",
    "%pip install -q git+https://github.com/tensorflow/docs\n",
    "import matplotlib.pyplot as plt\n",
    "import numpy as np\n",
    "import pandas as pd\n",
    "\n",
    "try:\n",
    "  # %tensorflow_version only exists in Colab.\n",
    "  %tensorflow_version 2.x\n",
    "except Exception:\n",
    "  pass\n",
    "import tensorflow as tf\n",
    "\n",
    "from tensorflow import keras\n",
    "from keras import layers\n",
    "from sklearn.ensemble import GradientBoostingRegressor\n",
    "from sklearn.model_selection import train_test_split\n",
    "from sklearn.metrics import mean_absolute_error\n",
    "\n",
    "import tensorflow_docs as tfdocs\n",
    "import tensorflow_docs.plots\n",
    "import tensorflow_docs.modeling"
   ]
  },
  {
   "cell_type": "code",
   "execution_count": 142,
   "metadata": {},
   "outputs": [
    {
     "data": {
      "text/html": [
       "<div>\n",
       "<style scoped>\n",
       "    .dataframe tbody tr th:only-of-type {\n",
       "        vertical-align: middle;\n",
       "    }\n",
       "\n",
       "    .dataframe tbody tr th {\n",
       "        vertical-align: top;\n",
       "    }\n",
       "\n",
       "    .dataframe thead th {\n",
       "        text-align: right;\n",
       "    }\n",
       "</style>\n",
       "<table border=\"1\" class=\"dataframe\">\n",
       "  <thead>\n",
       "    <tr style=\"text-align: right;\">\n",
       "      <th></th>\n",
       "      <th>age</th>\n",
       "      <th>sex</th>\n",
       "      <th>bmi</th>\n",
       "      <th>children</th>\n",
       "      <th>smoker</th>\n",
       "      <th>region</th>\n",
       "      <th>expenses</th>\n",
       "    </tr>\n",
       "  </thead>\n",
       "  <tbody>\n",
       "    <tr>\n",
       "      <th>0</th>\n",
       "      <td>19</td>\n",
       "      <td>female</td>\n",
       "      <td>27.9</td>\n",
       "      <td>0</td>\n",
       "      <td>yes</td>\n",
       "      <td>southwest</td>\n",
       "      <td>16884.92</td>\n",
       "    </tr>\n",
       "    <tr>\n",
       "      <th>1</th>\n",
       "      <td>18</td>\n",
       "      <td>male</td>\n",
       "      <td>33.8</td>\n",
       "      <td>1</td>\n",
       "      <td>no</td>\n",
       "      <td>southeast</td>\n",
       "      <td>1725.55</td>\n",
       "    </tr>\n",
       "    <tr>\n",
       "      <th>2</th>\n",
       "      <td>28</td>\n",
       "      <td>male</td>\n",
       "      <td>33.0</td>\n",
       "      <td>3</td>\n",
       "      <td>no</td>\n",
       "      <td>southeast</td>\n",
       "      <td>4449.46</td>\n",
       "    </tr>\n",
       "    <tr>\n",
       "      <th>3</th>\n",
       "      <td>33</td>\n",
       "      <td>male</td>\n",
       "      <td>22.7</td>\n",
       "      <td>0</td>\n",
       "      <td>no</td>\n",
       "      <td>northwest</td>\n",
       "      <td>21984.47</td>\n",
       "    </tr>\n",
       "    <tr>\n",
       "      <th>4</th>\n",
       "      <td>32</td>\n",
       "      <td>male</td>\n",
       "      <td>28.9</td>\n",
       "      <td>0</td>\n",
       "      <td>no</td>\n",
       "      <td>northwest</td>\n",
       "      <td>3866.86</td>\n",
       "    </tr>\n",
       "  </tbody>\n",
       "</table>\n",
       "</div>"
      ],
      "text/plain": [
       "   age     sex   bmi  children smoker     region  expenses\n",
       "0   19  female  27.9         0    yes  southwest  16884.92\n",
       "1   18    male  33.8         1     no  southeast   1725.55\n",
       "2   28    male  33.0         3     no  southeast   4449.46\n",
       "3   33    male  22.7         0     no  northwest  21984.47\n",
       "4   32    male  28.9         0     no  northwest   3866.86"
      ]
     },
     "execution_count": 142,
     "metadata": {},
     "output_type": "execute_result"
    }
   ],
   "source": [
    "\n",
    "# load and visualize the data\n",
    "dataset = pd.read_csv('insurance.csv')\n",
    "dataset.head()"
   ]
  },
  {
   "cell_type": "code",
   "execution_count": 143,
   "metadata": {},
   "outputs": [],
   "source": [
    "# split data for training and testing\n",
    "y = dataset.expenses\n",
    "data_features = ['age', 'sex', 'bmi', 'children', 'smoker']\n",
    "X = dataset[data_features]\n",
    "\n",
    "train_X, val_X, train_y, val_y = train_test_split(X, y, train_size = 0.8, test_size = 0.2, random_state = 0)"
   ]
  },
  {
   "cell_type": "code",
   "execution_count": 144,
   "metadata": {},
   "outputs": [
    {
     "name": "stdout",
     "output_type": "stream",
     "text": [
      "[]\n"
     ]
    }
   ],
   "source": [
    "# check for missing values\n",
    "cols_missing = [col for col in train_X.columns if train_X[col].isnull().any()]\n",
    "print(cols_missing)"
   ]
  },
  {
   "cell_type": "code",
   "execution_count": 145,
   "metadata": {},
   "outputs": [
    {
     "name": "stdout",
     "output_type": "stream",
     "text": [
      "Columns with categorical values are:\n",
      "['sex', 'smoker']\n",
      "      age     sex   bmi  children smoker\n",
      "578    52    male  30.2         1     no\n",
      "610    47  female  29.4         1     no\n",
      "569    48    male  40.6         2    yes\n",
      "1034   61    male  38.4         0     no\n",
      "198    51  female  18.1         0     no\n",
      "...   ...     ...   ...       ...    ...\n",
      "1084   62  female  30.5         2     no\n",
      "726    41    male  28.4         1     no\n",
      "1132   57    male  40.3         0     no\n",
      "725    30  female  39.1         3    yes\n",
      "963    46    male  24.8         3     no\n",
      "\n",
      "[268 rows x 5 columns]\n"
     ]
    }
   ],
   "source": [
    "# check for categorical values\n",
    "categ = (train_X.dtypes == 'object')\n",
    "categ_cols = list(categ[categ].index)\n",
    "print(\"Columns with categorical values are:\")\n",
    "print(categ_cols)\n",
    "print(val_X)"
   ]
  },
  {
   "cell_type": "code",
   "execution_count": 146,
   "metadata": {},
   "outputs": [
    {
     "name": "stdout",
     "output_type": "stream",
     "text": [
      "      age   bmi  children  female  male  no smoking  yes smoking\n",
      "578    52  30.2         1     0.0   1.0         1.0          0.0\n",
      "610    47  29.4         1     1.0   0.0         1.0          0.0\n",
      "569    48  40.6         2     0.0   1.0         0.0          1.0\n",
      "1034   61  38.4         0     0.0   1.0         1.0          0.0\n",
      "198    51  18.1         0     1.0   0.0         1.0          0.0\n",
      "...   ...   ...       ...     ...   ...         ...          ...\n",
      "1084   62  30.5         2     1.0   0.0         1.0          0.0\n",
      "726    41  28.4         1     0.0   1.0         1.0          0.0\n",
      "1132   57  40.3         0     0.0   1.0         1.0          0.0\n",
      "725    30  39.1         3     1.0   0.0         0.0          1.0\n",
      "963    46  24.8         3     0.0   1.0         1.0          0.0\n",
      "\n",
      "[268 rows x 7 columns]\n"
     ]
    },
    {
     "name": "stderr",
     "output_type": "stream",
     "text": [
      "c:\\Users\\michels\\AppData\\Local\\Programs\\Python\\Python310\\lib\\site-packages\\sklearn\\preprocessing\\_encoders.py:972: FutureWarning: `sparse` was renamed to `sparse_output` in version 1.2 and will be removed in 1.4. `sparse_output` is ignored unless you leave `sparse` to its default value.\n",
      "  warnings.warn(\n"
     ]
    }
   ],
   "source": [
    "# process categorical values\n",
    "from sklearn.preprocessing import OneHotEncoder\n",
    "\n",
    "my_encoder = OneHotEncoder(handle_unknown='ignore', sparse = False)\n",
    "\n",
    "OH_cols_train = pd.DataFrame(my_encoder.fit_transform(train_X[categ_cols]))\n",
    "OH_cols_val = pd.DataFrame(my_encoder.transform(val_X[categ_cols]))\n",
    "\n",
    "OH_cols_train.index = train_X.index\n",
    "OH_cols_val.index = val_X.index\n",
    "\n",
    "num_train_X = train_X.drop(categ_cols, axis = 1)\n",
    "num_val_X = val_X.drop(categ_cols, axis = 1)\n",
    "\n",
    "\n",
    "OH_train_X = pd.concat([num_train_X, OH_cols_train], axis = 1)\n",
    "OH_val_X = pd.concat([num_val_X, OH_cols_val], axis = 1)\n",
    "\n",
    "OH_train_X.columns = OH_train_X.columns.astype(str)\n",
    "OH_val_X.columns = OH_val_X.columns.astype(str)\n",
    "\n",
    "OH_train_X.rename(columns = {'2' : 'no smoking'}, inplace = True)\n",
    "OH_val_X.rename(columns = {'2' : 'no smoking'}, inplace = True)\n",
    "OH_train_X.rename(columns = {'3' : 'yes smoking'}, inplace = True)\n",
    "OH_val_X.rename(columns = {'3' : 'yes smoking'}, inplace = True)\n",
    "\n",
    "OH_train_X.rename(columns = {'1' : 'male'}, inplace = True)\n",
    "OH_val_X.rename(columns = {'1' : 'male'}, inplace = True)\n",
    "OH_train_X.rename(columns = {'0' : 'female'}, inplace = True)\n",
    "OH_val_X.rename(columns = {'0' : 'female'}, inplace = True)\n",
    "\n",
    "\n",
    "print(OH_val_X)\n",
    "\n",
    "\n"
   ]
  },
  {
   "cell_type": "code",
   "execution_count": 147,
   "metadata": {},
   "outputs": [
    {
     "name": "stdout",
     "output_type": "stream",
     "text": [
      "      age   bmi  children  female  male  no smoking  yes smoking\n",
      "621    37  34.1         4     0.0   1.0         0.0          1.0\n",
      "194    18  34.4         0     0.0   1.0         1.0          0.0\n",
      "240    23  36.7         2     1.0   0.0         0.0          1.0\n",
      "1168   32  35.2         2     0.0   1.0         1.0          0.0\n",
      "1192   58  32.4         1     1.0   0.0         1.0          0.0\n",
      "...   ...   ...       ...     ...   ...         ...          ...\n",
      "763    27  26.0         0     0.0   1.0         1.0          0.0\n",
      "835    42  36.0         2     0.0   1.0         1.0          0.0\n",
      "1216   40  25.1         0     0.0   1.0         1.0          0.0\n",
      "559    19  35.5         0     0.0   1.0         1.0          0.0\n",
      "684    33  18.5         1     1.0   0.0         1.0          0.0\n",
      "\n",
      "[1070 rows x 7 columns]\n",
      "age             True\n",
      "bmi            False\n",
      "children        True\n",
      "female         False\n",
      "male           False\n",
      "no smoking     False\n",
      "yes smoking    False\n",
      "dtype: bool\n"
     ]
    }
   ],
   "source": [
    "for data in OH_train_X.select_dtypes(\"object\"):\n",
    "    OH_train_X[data], _ = OH_train_X[data].factorize()\n",
    "\n",
    "# for data in OH_train_X.select_dtypes(\"float64\"):\n",
    "#     OH_train_X[data], _ = OH_train_X[data].factorize\n",
    "\n",
    "print(OH_train_X)\n",
    "discrete_features = (OH_train_X.dtypes == int) | (OH_train_X.dtypes == 'int64')\n",
    "print(discrete_features)"
   ]
  },
  {
   "cell_type": "code",
   "execution_count": 148,
   "metadata": {},
   "outputs": [
    {
     "name": "stdout",
     "output_type": "stream",
     "text": [
      "age            1.372181\n",
      "no smoking     0.367263\n",
      "yes smoking    0.367263\n",
      "children       0.141411\n",
      "female         0.116587\n",
      "male           0.116587\n",
      "bmi            0.095194\n",
      "Name: MI Scores, dtype: float64\n"
     ]
    },
    {
     "data": {
      "image/png": "[encoded data removed]",
      "text/plain": [
       "<Figure size 800x500 with 1 Axes>"
      ]
     },
     "metadata": {},
     "output_type": "display_data"
    }
   ],
   "source": [
    "# Mutual Information check\n",
    "from sklearn.feature_selection import mutual_info_regression\n",
    "def make_mi_score(X, y, discrete_features):\n",
    "    mi_scores = mutual_info_regression(X, y, discrete_features=discrete_features)\n",
    "    mi_scores = pd.Series(mi_scores, name = 'MI Scores', index = X.columns)\n",
    "    mi_scores = mi_scores.sort_values(ascending=False)\n",
    "    return mi_scores\n",
    "\n",
    "mi_scores = make_mi_score(OH_train_X, train_y, discrete_features)\n",
    "print(mi_scores)\n",
    "\n",
    "def plot_mi_scores(scores):\n",
    "    scores = scores.sort_values(ascending=True)\n",
    "    width = np.arange(len(scores))\n",
    "    ticks = list(scores.index)\n",
    "    plt.barh(width, scores)\n",
    "    plt.yticks(width, ticks)\n",
    "    plt.title(\"Mutual Information Scores\")\n",
    "\n",
    "\n",
    "\n",
    "plt.figure(dpi = 100, figsize=(8, 5))\n",
    "plot_mi_scores(mi_scores)"
   ]
  },
  {
   "cell_type": "code",
   "execution_count": 149,
   "metadata": {},
   "outputs": [
    {
     "name": "stdout",
     "output_type": "stream",
     "text": [
      "2372.2506798047443\n"
     ]
    }
   ],
   "source": [
    "my_model= GradientBoostingRegressor()\n",
    "my_model.fit(OH_train_X, train_y)\n",
    "predict = my_model.predict(OH_val_X)\n",
    "score = mean_absolute_error(val_y, predict)\n",
    "print(score)\n",
    "\n"
   ]
  }
 ],
 "metadata": {
  "kernelspec": {
   "display_name": "Python 3",
   "language": "python",
   "name": "python3"
  },
  "language_info": {
   "codemirror_mode": {
    "name": "ipython",
    "version": 3
   },
   "file_extension": ".py",
   "mimetype": "text/x-python",
   "name": "python",
   "nbconvert_exporter": "python",
   "pygments_lexer": "ipython3",
   "version": "3.10.6"
  },
  "orig_nbformat": 4
 },
 "nbformat": 4,
 "nbformat_minor": 2
}
