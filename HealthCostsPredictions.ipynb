{
 "cells": [
  {
   "cell_type": "code",
   "execution_count": 55,
   "metadata": {},
   "outputs": [
    {
     "name": "stdout",
     "output_type": "stream",
     "text": [
      "ERROR! Session/line number was not unique in database. History logging moved to new session 10\n",
      "Note: you may need to restart the kernel to use updated packages.\n"
     ]
    },
    {
     "name": "stderr",
     "output_type": "stream",
     "text": [
      "\n",
      "[notice] A new release of pip is available: 23.1.2 -> 23.2.1\n",
      "[notice] To update, run: python.exe -m pip install --upgrade pip\n"
     ]
    }
   ],
   "source": [
    "# Import libraries.\n",
    "%pip install -q git+https://github.com/tensorflow/docs\n",
    "import matplotlib.pyplot as plt\n",
    "import numpy as np\n",
    "import pandas as pd\n",
    "\n",
    "try:\n",
    "  # %tensorflow_version only exists in Colab.\n",
    "  %tensorflow_version 2.x\n",
    "except Exception:\n",
    "  pass\n",
    "import tensorflow as tf\n",
    "\n",
    "from tensorflow import keras\n",
    "from keras import layers\n",
    "from sklearn.linear_model import LinearRegression\n",
    "from sklearn.model_selection import train_test_split\n",
    "from sklearn.metrics import mean_absolute_error\n",
    "\n",
    "import tensorflow_docs as tfdocs\n",
    "import tensorflow_docs.plots\n",
    "import tensorflow_docs.modeling"
   ]
  },
  {
   "cell_type": "code",
   "execution_count": 56,
   "metadata": {},
   "outputs": [
    {
     "data": {
      "text/html": [
       "<div>\n",
       "<style scoped>\n",
       "    .dataframe tbody tr th:only-of-type {\n",
       "        vertical-align: middle;\n",
       "    }\n",
       "\n",
       "    .dataframe tbody tr th {\n",
       "        vertical-align: top;\n",
       "    }\n",
       "\n",
       "    .dataframe thead th {\n",
       "        text-align: right;\n",
       "    }\n",
       "</style>\n",
       "<table border=\"1\" class=\"dataframe\">\n",
       "  <thead>\n",
       "    <tr style=\"text-align: right;\">\n",
       "      <th></th>\n",
       "      <th>age</th>\n",
       "      <th>sex</th>\n",
       "      <th>bmi</th>\n",
       "      <th>children</th>\n",
       "      <th>smoker</th>\n",
       "      <th>region</th>\n",
       "      <th>expenses</th>\n",
       "    </tr>\n",
       "  </thead>\n",
       "  <tbody>\n",
       "    <tr>\n",
       "      <th>1333</th>\n",
       "      <td>50</td>\n",
       "      <td>male</td>\n",
       "      <td>31.0</td>\n",
       "      <td>3</td>\n",
       "      <td>no</td>\n",
       "      <td>northwest</td>\n",
       "      <td>10600.55</td>\n",
       "    </tr>\n",
       "    <tr>\n",
       "      <th>1334</th>\n",
       "      <td>18</td>\n",
       "      <td>female</td>\n",
       "      <td>31.9</td>\n",
       "      <td>0</td>\n",
       "      <td>no</td>\n",
       "      <td>northeast</td>\n",
       "      <td>2205.98</td>\n",
       "    </tr>\n",
       "    <tr>\n",
       "      <th>1335</th>\n",
       "      <td>18</td>\n",
       "      <td>female</td>\n",
       "      <td>36.9</td>\n",
       "      <td>0</td>\n",
       "      <td>no</td>\n",
       "      <td>southeast</td>\n",
       "      <td>1629.83</td>\n",
       "    </tr>\n",
       "    <tr>\n",
       "      <th>1336</th>\n",
       "      <td>21</td>\n",
       "      <td>female</td>\n",
       "      <td>25.8</td>\n",
       "      <td>0</td>\n",
       "      <td>no</td>\n",
       "      <td>southwest</td>\n",
       "      <td>2007.95</td>\n",
       "    </tr>\n",
       "    <tr>\n",
       "      <th>1337</th>\n",
       "      <td>61</td>\n",
       "      <td>female</td>\n",
       "      <td>29.1</td>\n",
       "      <td>0</td>\n",
       "      <td>yes</td>\n",
       "      <td>northwest</td>\n",
       "      <td>29141.36</td>\n",
       "    </tr>\n",
       "  </tbody>\n",
       "</table>\n",
       "</div>"
      ],
      "text/plain": [
       "      age     sex   bmi  children smoker     region  expenses\n",
       "1333   50    male  31.0         3     no  northwest  10600.55\n",
       "1334   18  female  31.9         0     no  northeast   2205.98\n",
       "1335   18  female  36.9         0     no  southeast   1629.83\n",
       "1336   21  female  25.8         0     no  southwest   2007.95\n",
       "1337   61  female  29.1         0    yes  northwest  29141.36"
      ]
     },
     "execution_count": 56,
     "metadata": {},
     "output_type": "execute_result"
    }
   ],
   "source": [
    "\n",
    "# load and visualize the data\n",
    "dataset = pd.read_csv('insurance.csv')\n",
    "dataset.tail()"
   ]
  },
  {
   "cell_type": "code",
   "execution_count": 57,
   "metadata": {},
   "outputs": [],
   "source": [
    "# split data for training and testing\n",
    "y = dataset.expenses\n",
    "data_features = ['age', 'sex', 'bmi', 'children', 'smoker', 'region']\n",
    "X = dataset[data_features]\n",
    "\n",
    "train_X, val_X, train_y, val_y = train_test_split(X, y, train_size = 0.8, test_size = 0.2, random_state = 0)"
   ]
  },
  {
   "cell_type": "code",
   "execution_count": 58,
   "metadata": {},
   "outputs": [
    {
     "name": "stdout",
     "output_type": "stream",
     "text": [
      "[]\n"
     ]
    }
   ],
   "source": [
    "# check for missing values\n",
    "cols_missing = [col for col in train_X.columns if train_X[col].isnull().any()]\n",
    "print(cols_missing)"
   ]
  },
  {
   "cell_type": "code",
   "execution_count": 60,
   "metadata": {},
   "outputs": [
    {
     "name": "stdout",
     "output_type": "stream",
     "text": [
      "Columns with categorical values are:\n",
      "['sex', 'smoker', 'region']\n"
     ]
    }
   ],
   "source": [
    "# check for categorical values\n",
    "categ = (train_X.dtypes == 'object')\n",
    "categ_cols = list(categ[categ].index)\n",
    "print(\"Columns with categorical values are:\")\n",
    "print(categ_cols)"
   ]
  },
  {
   "cell_type": "code",
   "execution_count": 62,
   "metadata": {},
   "outputs": [
    {
     "name": "stdout",
     "output_type": "stream",
     "text": [
      "      age   bmi  children    0    1    2    3    4    5    6    7\n",
      "578    52  30.2         1  0.0  1.0  1.0  0.0  0.0  0.0  0.0  1.0\n",
      "610    47  29.4         1  1.0  0.0  1.0  0.0  0.0  0.0  1.0  0.0\n",
      "569    48  40.6         2  0.0  1.0  0.0  1.0  0.0  1.0  0.0  0.0\n",
      "1034   61  38.4         0  0.0  1.0  1.0  0.0  0.0  1.0  0.0  0.0\n",
      "198    51  18.1         0  1.0  0.0  1.0  0.0  0.0  1.0  0.0  0.0\n",
      "...   ...   ...       ...  ...  ...  ...  ...  ...  ...  ...  ...\n",
      "1084   62  30.5         2  1.0  0.0  1.0  0.0  0.0  1.0  0.0  0.0\n",
      "726    41  28.4         1  0.0  1.0  1.0  0.0  0.0  1.0  0.0  0.0\n",
      "1132   57  40.3         0  0.0  1.0  1.0  0.0  1.0  0.0  0.0  0.0\n",
      "725    30  39.1         3  1.0  0.0  0.0  1.0  0.0  0.0  1.0  0.0\n",
      "963    46  24.8         3  0.0  1.0  1.0  0.0  1.0  0.0  0.0  0.0\n",
      "\n",
      "[268 rows x 11 columns]\n",
      "      age     sex   bmi  children smoker     region\n",
      "578    52    male  30.2         1     no  southwest\n",
      "610    47  female  29.4         1     no  southeast\n",
      "569    48    male  40.6         2    yes  northwest\n",
      "1034   61    male  38.4         0     no  northwest\n",
      "198    51  female  18.1         0     no  northwest\n",
      "...   ...     ...   ...       ...    ...        ...\n",
      "1084   62  female  30.5         2     no  northwest\n",
      "726    41    male  28.4         1     no  northwest\n",
      "1132   57    male  40.3         0     no  northeast\n",
      "725    30  female  39.1         3    yes  southeast\n",
      "963    46    male  24.8         3     no  northeast\n",
      "\n",
      "[268 rows x 6 columns]\n"
     ]
    },
    {
     "name": "stderr",
     "output_type": "stream",
     "text": [
      "c:\\Users\\michels\\AppData\\Local\\Programs\\Python\\Python310\\lib\\site-packages\\sklearn\\preprocessing\\_encoders.py:972: FutureWarning: `sparse` was renamed to `sparse_output` in version 1.2 and will be removed in 1.4. `sparse_output` is ignored unless you leave `sparse` to its default value.\n",
      "  warnings.warn(\n"
     ]
    }
   ],
   "source": [
    "# process categorical values\n",
    "from sklearn.preprocessing import OneHotEncoder\n",
    "\n",
    "my_encoder = OneHotEncoder(handle_unknown='ignore', sparse = False)\n",
    "\n",
    "OH_cols_train = pd.DataFrame(my_encoder.fit_transform(train_X[categ_cols]))\n",
    "OH_cols_val = pd.DataFrame(my_encoder.transform(val_X[categ_cols]))\n",
    "\n",
    "OH_cols_train.index = train_X.index\n",
    "OH_cols_val.index = val_X.index\n",
    "\n",
    "num_train_X = train_X.drop(categ_cols, axis = 1)\n",
    "num_val_X = val_X.drop(categ_cols, axis = 1)\n",
    "\n",
    "\n",
    "OH_train_X = pd.concat([num_train_X, OH_cols_train], axis = 1)\n",
    "OH_val_X = pd.concat([num_val_X, OH_cols_val], axis = 1)\n",
    "\n",
    "OH_train_X.columns = OH_train_X.columns.astype(str)\n",
    "OH_val_X.columns = OH_val_X.columns.astype(str)\n",
    "\n",
    "# OH_train_X.rename(columns = {'3' : 'smoker'}, inplace = True)\n",
    "# OH_val_X.rename(columns = {'3' : 'smoker'}, inplace = True)\n",
    "\n",
    "# OH_train_X.rename(columns = {'1' : 'sex'}, inplace = True)\n",
    "# OH_val_X.rename(columns = {'1' : 'sex'}, inplace = True)\n",
    "\n",
    "print(OH_val_X)\n",
    "print(val_X)\n",
    "\n"
   ]
  },
  {
   "cell_type": "code",
   "execution_count": 63,
   "metadata": {},
   "outputs": [
    {
     "name": "stdout",
     "output_type": "stream",
     "text": [
      "3933.3062578580643\n"
     ]
    }
   ],
   "source": [
    "my_model= LinearRegression()\n",
    "my_model.fit(OH_train_X, train_y)\n",
    "predict = my_model.predict(OH_val_X)\n",
    "score = mean_absolute_error(val_y, predict)\n",
    "print(score)\n",
    "\n"
   ]
  }
 ],
 "metadata": {
  "kernelspec": {
   "display_name": "Python 3",
   "language": "python",
   "name": "python3"
  },
  "language_info": {
   "codemirror_mode": {
    "name": "ipython",
    "version": 3
   },
   "file_extension": ".py",
   "mimetype": "text/x-python",
   "name": "python",
   "nbconvert_exporter": "python",
   "pygments_lexer": "ipython3",
   "version": "3.10.6"
  },
  "orig_nbformat": 4
 },
 "nbformat": 4,
 "nbformat_minor": 2
}
