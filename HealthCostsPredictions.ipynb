{
 "cells": [
  {
   "cell_type": "code",
   "execution_count": 1,
   "metadata": {},
   "outputs": [
    {
     "name": "stdout",
     "output_type": "stream",
     "text": [
      "\u001b[33mDEPRECATION: distro-info 1.1build1 has a non-standard version number. pip 23.3 will enforce this behaviour change. A possible replacement is to upgrade to a newer version of distro-info or contact the author to suggest that they release a version with a conforming version number. Discussion can be found at https://github.com/pypa/pip/issues/12063\u001b[0m\u001b[33m\n",
      "\u001b[0mNote: you may need to restart the kernel to use updated packages.\n"
     ]
    },
    {
     "ename": "ModuleNotFoundError",
     "evalue": "No module named 'pandas'",
     "output_type": "error",
     "traceback": [
      "\u001b[0;31m---------------------------------------------------------------------------\u001b[0m",
      "\u001b[0;31mModuleNotFoundError\u001b[0m                       Traceback (most recent call last)",
      "\u001b[1;32m/home/michels/HealthCostsPredictionsWithRegression/HealthCostsPredictions.ipynb Cell 1\u001b[0m line \u001b[0;36m5\n\u001b[1;32m      <a href='vscode-notebook-cell://wsl%2Bubuntu-22.04/home/michels/HealthCostsPredictionsWithRegression/HealthCostsPredictions.ipynb#W0sdnNjb2RlLXJlbW90ZQ%3D%3D?line=2'>3</a>\u001b[0m \u001b[39mimport\u001b[39;00m \u001b[39mmatplotlib\u001b[39;00m\u001b[39m.\u001b[39;00m\u001b[39mpyplot\u001b[39;00m \u001b[39mas\u001b[39;00m \u001b[39mplt\u001b[39;00m\n\u001b[1;32m      <a href='vscode-notebook-cell://wsl%2Bubuntu-22.04/home/michels/HealthCostsPredictionsWithRegression/HealthCostsPredictions.ipynb#W0sdnNjb2RlLXJlbW90ZQ%3D%3D?line=3'>4</a>\u001b[0m \u001b[39mimport\u001b[39;00m \u001b[39mnumpy\u001b[39;00m \u001b[39mas\u001b[39;00m \u001b[39mnp\u001b[39;00m\n\u001b[0;32m----> <a href='vscode-notebook-cell://wsl%2Bubuntu-22.04/home/michels/HealthCostsPredictionsWithRegression/HealthCostsPredictions.ipynb#W0sdnNjb2RlLXJlbW90ZQ%3D%3D?line=4'>5</a>\u001b[0m \u001b[39mimport\u001b[39;00m \u001b[39mpandas\u001b[39;00m \u001b[39mas\u001b[39;00m \u001b[39mpd\u001b[39;00m\n\u001b[1;32m      <a href='vscode-notebook-cell://wsl%2Bubuntu-22.04/home/michels/HealthCostsPredictionsWithRegression/HealthCostsPredictions.ipynb#W0sdnNjb2RlLXJlbW90ZQ%3D%3D?line=6'>7</a>\u001b[0m \u001b[39mtry\u001b[39;00m:\n\u001b[1;32m      <a href='vscode-notebook-cell://wsl%2Bubuntu-22.04/home/michels/HealthCostsPredictionsWithRegression/HealthCostsPredictions.ipynb#W0sdnNjb2RlLXJlbW90ZQ%3D%3D?line=7'>8</a>\u001b[0m   \u001b[39m# %tensorflow_version only exists in Colab.\u001b[39;00m\n\u001b[1;32m      <a href='vscode-notebook-cell://wsl%2Bubuntu-22.04/home/michels/HealthCostsPredictionsWithRegression/HealthCostsPredictions.ipynb#W0sdnNjb2RlLXJlbW90ZQ%3D%3D?line=8'>9</a>\u001b[0m   get_ipython()\u001b[39m.\u001b[39mrun_line_magic(\u001b[39m'\u001b[39m\u001b[39mtensorflow_version\u001b[39m\u001b[39m'\u001b[39m, \u001b[39m'\u001b[39m\u001b[39m2.x\u001b[39m\u001b[39m'\u001b[39m)\n",
      "\u001b[0;31mModuleNotFoundError\u001b[0m: No module named 'pandas'"
     ]
    }
   ],
   "source": [
    "# Import libraries.\n",
    "%pip install -q git+https://github.com/tensorflow/docs\n",
    "import matplotlib.pyplot as plt\n",
    "import numpy as np\n",
    "import pandas as pd\n",
    "\n",
    "try:\n",
    "  # %tensorflow_version only exists in Colab.\n",
    "  %tensorflow_version 2.x\n",
    "except Exception:\n",
    "  pass\n",
    "import tensorflow as tf\n",
    "\n",
    "from tensorflow import keras\n",
    "from keras import layers\n",
    "from sklearn.ensemble import GradientBoostingRegressor\n",
    "from sklearn.model_selection import train_test_split\n",
    "from sklearn.metrics import mean_absolute_error\n",
    "\n",
    "import tensorflow_docs as tfdocs\n",
    "import tensorflow_docs.plots\n",
    "import tensorflow_docs.modeling"
   ]
  },
  {
   "cell_type": "code",
   "execution_count": null,
   "metadata": {},
   "outputs": [],
   "source": [
    "\n",
    "# load and visualize the data\n",
    "dataset = pd.read_csv('insurance.csv')\n",
    "dataset.head()"
   ]
  },
  {
   "cell_type": "code",
   "execution_count": null,
   "metadata": {},
   "outputs": [],
   "source": [
    "# split data for training and testing\n",
    "y = dataset.expenses\n",
    "data_features = ['age', 'sex', 'bmi', 'children', 'smoker']\n",
    "X = dataset[data_features]\n",
    "\n",
    "train_X, val_X, train_y, val_y = train_test_split(X, y, train_size = 0.8, test_size = 0.2, random_state = 0)"
   ]
  },
  {
   "cell_type": "code",
   "execution_count": null,
   "metadata": {},
   "outputs": [],
   "source": [
    "# check for missing values\n",
    "cols_missing = [col for col in train_X.columns if train_X[col].isnull().any()]\n",
    "print(cols_missing)"
   ]
  },
  {
   "cell_type": "code",
   "execution_count": null,
   "metadata": {},
   "outputs": [],
   "source": [
    "# check for categorical values\n",
    "categ = (train_X.dtypes == 'object')\n",
    "categ_cols = list(categ[categ].index)\n",
    "print(\"Columns with categorical values are:\")\n",
    "print(categ_cols)\n",
    "print(val_X)"
   ]
  },
  {
   "cell_type": "code",
   "execution_count": null,
   "metadata": {},
   "outputs": [],
   "source": [
    "# process categorical values\n",
    "from sklearn.preprocessing import OneHotEncoder\n",
    "\n",
    "my_encoder = OneHotEncoder(handle_unknown='ignore', sparse = False)\n",
    "\n",
    "OH_cols_train = pd.DataFrame(my_encoder.fit_transform(train_X[categ_cols]))\n",
    "OH_cols_val = pd.DataFrame(my_encoder.transform(val_X[categ_cols]))\n",
    "\n",
    "OH_cols_train.index = train_X.index\n",
    "OH_cols_val.index = val_X.index\n",
    "\n",
    "num_train_X = train_X.drop(categ_cols, axis = 1)\n",
    "num_val_X = val_X.drop(categ_cols, axis = 1)\n",
    "\n",
    "\n",
    "OH_train_X = pd.concat([num_train_X, OH_cols_train], axis = 1)\n",
    "OH_val_X = pd.concat([num_val_X, OH_cols_val], axis = 1)\n",
    "\n",
    "OH_train_X.columns = OH_train_X.columns.astype(str)\n",
    "OH_val_X.columns = OH_val_X.columns.astype(str)\n",
    "\n",
    "OH_train_X.rename(columns = {'2' : 'no smoking'}, inplace = True)\n",
    "OH_val_X.rename(columns = {'2' : 'no smoking'}, inplace = True)\n",
    "OH_train_X.rename(columns = {'3' : 'yes smoking'}, inplace = True)\n",
    "OH_val_X.rename(columns = {'3' : 'yes smoking'}, inplace = True)\n",
    "\n",
    "OH_train_X.rename(columns = {'1' : 'male'}, inplace = True)\n",
    "OH_val_X.rename(columns = {'1' : 'male'}, inplace = True)\n",
    "OH_train_X.rename(columns = {'0' : 'female'}, inplace = True)\n",
    "OH_val_X.rename(columns = {'0' : 'female'}, inplace = True)\n",
    "\n",
    "\n",
    "print(OH_val_X)\n",
    "\n",
    "\n"
   ]
  },
  {
   "cell_type": "code",
   "execution_count": null,
   "metadata": {},
   "outputs": [],
   "source": [
    "for data in OH_train_X.select_dtypes(\"object\"):\n",
    "    OH_train_X[data], _ = OH_train_X[data].factorize()\n",
    "\n",
    "# for data in OH_train_X.select_dtypes(\"float64\"):\n",
    "#     OH_train_X[data], _ = OH_train_X[data].factorize\n",
    "\n",
    "print(OH_train_X)\n",
    "discrete_features = (OH_train_X.dtypes == int) | (OH_train_X.dtypes == 'int64')\n",
    "print(discrete_features)"
   ]
  },
  {
   "cell_type": "code",
   "execution_count": null,
   "metadata": {},
   "outputs": [],
   "source": [
    "# Mutual Information check\n",
    "from sklearn.feature_selection import mutual_info_regression\n",
    "def make_mi_score(X, y, discrete_features):\n",
    "    mi_scores = mutual_info_regression(X, y, discrete_features=discrete_features)\n",
    "    mi_scores = pd.Series(mi_scores, name = 'MI Scores', index = X.columns)\n",
    "    mi_scores = mi_scores.sort_values(ascending=False)\n",
    "    return mi_scores\n",
    "\n",
    "mi_scores = make_mi_score(OH_train_X, train_y, discrete_features)\n",
    "print(mi_scores)\n",
    "\n",
    "def plot_mi_scores(scores):\n",
    "    scores = scores.sort_values(ascending=True)\n",
    "    width = np.arange(len(scores))\n",
    "    ticks = list(scores.index)\n",
    "    plt.barh(width, scores)\n",
    "    plt.yticks(width, ticks)\n",
    "    plt.title(\"Mutual Information Scores\")\n",
    "\n",
    "\n",
    "\n",
    "plt.figure(dpi = 100, figsize=(8, 5))\n",
    "plot_mi_scores(mi_scores)"
   ]
  },
  {
   "cell_type": "code",
   "execution_count": null,
   "metadata": {},
   "outputs": [],
   "source": [
    "my_model= GradientBoostingRegressor()\n",
    "my_model.fit(OH_train_X, train_y)\n",
    "predict = my_model.predict(OH_val_X)\n",
    "score = mean_absolute_error(val_y, predict)\n",
    "print(score)\n",
    "\n"
   ]
  }
 ],
 "metadata": {
  "kernelspec": {
   "display_name": "Python 3",
   "language": "python",
   "name": "python3"
  },
  "language_info": {
   "codemirror_mode": {
    "name": "ipython",
    "version": 3
   },
   "file_extension": ".py",
   "mimetype": "text/x-python",
   "name": "python",
   "nbconvert_exporter": "python",
   "pygments_lexer": "ipython3",
   "version": "3.10.6"
  },
  "orig_nbformat": 4
 },
 "nbformat": 4,
 "nbformat_minor": 2
}
